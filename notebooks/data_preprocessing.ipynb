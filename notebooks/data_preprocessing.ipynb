{
 "cells": [
  {
   "cell_type": "code",
   "execution_count": null,
   "metadata": {
    "vscode": {
     "languageId": "plaintext"
    }
   },
   "outputs": [],
   "source": [
    "import pandas as pd\n",
    "import os\n",
    "\n",
    "# Get the absolute path to the file\n",
    "file_path = os.path.join(os.getcwd(), 'data/orders.csv')\n",
    "\n",
    "# Load the raw orders dataset\n",
    "orders = pd.read_csv(file_path)\n",
    "\n",
    "# Perform some basic cleaning (e.g., filling missing values)\n",
    "orders.fillna(0, inplace=True)\n",
    "\n",
    "# Save the cleaned data to a new file\n",
    "orders.to_csv('data/cleaned_orders.csv', index=False)\n"
   ]
  }
 ],
 "metadata": {
  "language_info": {
   "name": "python"
  }
 },
 "nbformat": 4,
 "nbformat_minor": 2
}
